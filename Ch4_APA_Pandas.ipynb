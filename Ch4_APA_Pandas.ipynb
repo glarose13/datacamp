{
    "metadata": {
        "kernelspec": {
            "name": "python3",
            "display_name": "Python 3"
        },
        "language_info": {
            "name": "python",
            "version": "3.6.6",
            "mimetype": "text/x-python",
            "codemirror_mode": {
                "name": "ipython",
                "version": 3
            },
            "pygments_lexer": "ipython3",
            "nbconvert_exporter": "python",
            "file_extension": ".py"
        }
    },
    "nbformat_minor": 2,
    "nbformat": 4,
    "cells": [
        {
            "cell_type": "code",
            "source": [
                "import pandas as pd\n",
                "import matplotlib.pyplot as plt"
            ],
            "metadata": {
                "azdata_cell_guid": "5771c12e-910d-4a4a-b48b-e131e8159a9c",
                "tags": []
            },
            "outputs": [],
            "execution_count": 1
        },
        {
            "cell_type": "code",
            "source": [
                "weather = pd.read_csv('weather.csv')"
            ],
            "metadata": {
                "azdata_cell_guid": "7f202e41-d008-4860-be16-f48a83e2fd05"
            },
            "outputs": [],
            "execution_count": 2
        },
        {
            "cell_type": "code",
            "source": [
                "temp.sum()"
            ],
            "metadata": {
                "azdata_cell_guid": "765491ee-93cf-488b-8cc9-4f50d9cb3086"
            },
            "outputs": [
                {
                    "output_type": "execute_result",
                    "execution_count": 11,
                    "data": {
                        "text/plain": "TAVG     63884.0\nTMIN    174677.0\nTMAX    246116.0\ndtype: float64"
                    },
                    "metadata": {}
                }
            ],
            "execution_count": 11
        },
        {
            "cell_type": "code",
            "source": [
                "temp.shape"
            ],
            "metadata": {
                "azdata_cell_guid": "cb557b4a-2f9f-4bf7-a767-aa316bb09447"
            },
            "outputs": [
                {
                    "output_type": "execute_result",
                    "execution_count": 12,
                    "data": {
                        "text/plain": "(4017, 3)"
                    },
                    "metadata": {}
                }
            ],
            "execution_count": 12
        },
        {
            "cell_type": "code",
            "source": [
                "WT = weather.loc[:, 'WT01': 'WT22']"
            ],
            "metadata": {
                "azdata_cell_guid": "8002ac96-1fd7-4e09-abb6-9db2b9547069"
            },
            "outputs": [],
            "execution_count": 13
        },
        {
            "cell_type": "code",
            "source": [
                "weather['bad_conditions'] = WT.sum(axis='columns')"
            ],
            "metadata": {
                "azdata_cell_guid": "581dc184-9338-467c-b8c3-7d20d731c744"
            },
            "outputs": [],
            "execution_count": 14
        },
        {
            "cell_type": "code",
            "source": [
                "weather['bad_conditions'] = weather.bad_conditions.fillna(0).astype('int')"
            ],
            "metadata": {
                "azdata_cell_guid": "81ce403f-9a78-459c-8736-4cd3f38ccb41"
            },
            "outputs": [],
            "execution_count": 15
        },
        {
            "cell_type": "code",
            "source": [
                "print(weather.bad_conditions.value_counts().sort_index())"
            ],
            "metadata": {
                "azdata_cell_guid": "c0ec32ff-ff4e-4878-8edc-08335dc79d5f"
            },
            "outputs": [
                {
                    "output_type": "stream",
                    "name": "stdout",
                    "text": "0    1749\n1     613\n2     367\n3     380\n4     476\n5     282\n6     101\n7      41\n8       4\n9       4\nName: bad_conditions, dtype: int64\n"
                }
            ],
            "execution_count": 17
        },
        {
            "cell_type": "code",
            "source": [
                "mapping = {0: 'good', 1: 'bad', 2: 'bad', 3: 'bad', 4: 'bad', 5: 'worse', 6: 'worse', 7: 'worse', 8: 'worse', 9: 'worse'}"
            ],
            "metadata": {
                "azdata_cell_guid": "13d7d089-6da8-4b99-9486-52c8455e6ede"
            },
            "outputs": [],
            "execution_count": 18
        },
        {
            "cell_type": "code",
            "source": [
                "weather['rating'] = weather.bad_conditions.map(mapping)\n",
                "weather.rating.unique()"
            ],
            "metadata": {
                "azdata_cell_guid": "d7e5c442-5dd8-41bb-80cf-1ee6d52b0c92"
            },
            "outputs": [
                {
                    "output_type": "execute_result",
                    "execution_count": 19,
                    "data": {
                        "text/plain": "array(['bad', 'worse', 'good'], dtype=object)"
                    },
                    "metadata": {}
                }
            ],
            "execution_count": 19
        },
        {
            "cell_type": "code",
            "source": [
                "weather.rating.value_counts()"
            ],
            "metadata": {
                "azdata_cell_guid": "f94d4be9-e066-43de-9354-bff45667f992"
            },
            "outputs": [
                {
                    "output_type": "execute_result",
                    "execution_count": 20,
                    "data": {
                        "text/plain": "bad      1836\ngood     1749\nworse     432\nName: rating, dtype: int64"
                    },
                    "metadata": {}
                }
            ],
            "execution_count": 20
        },
        {
            "cell_type": "code",
            "source": [
                "cats = ['good', 'bad', 'worse']"
            ],
            "metadata": {
                "azdata_cell_guid": "400e9072-0067-4ea0-885d-b89e24507d78"
            },
            "outputs": [],
            "execution_count": 21
        },
        {
            "cell_type": "code",
            "source": [
                "from pandas.api.types import CategoricalDtype"
            ],
            "metadata": {
                "azdata_cell_guid": "0273026d-1d63-418e-ad59-a0865e504c73"
            },
            "outputs": [],
            "execution_count": 22
        },
        {
            "cell_type": "markdown",
            "source": [
                "With pandas 0.25.1, to solve this code, the above import and below expression required to create the mapping\r\n",
                "Following the chapter guidance (below) did not work:\r\n",
                "cats = ['short', 'medium', 'long']\r\n",
                "ri['stop_length'] = ri.stop_length.astype('category', ordered=True, categories=cats)\r\n",
                ""
            ],
            "metadata": {
                "azdata_cell_guid": "efc1ea96-bacc-45c8-9107-2e8f3427af6f"
            }
        },
        {
            "cell_type": "code",
            "source": [
                "weather['rating'] = weather.rating.astype(CategoricalDtype(categories=cats, ordered=True))"
            ],
            "metadata": {
                "azdata_cell_guid": "1ce05107-d8e7-4f73-b77b-12b7dc424e29"
            },
            "outputs": [],
            "execution_count": 23
        },
        {
            "cell_type": "code",
            "source": [
                "print(weather.rating.head())"
            ],
            "metadata": {
                "azdata_cell_guid": "ad8f64b5-504b-42c2-a40d-8116ee21cf6d"
            },
            "outputs": [
                {
                    "output_type": "stream",
                    "name": "stdout",
                    "text": "0    bad\n1    bad\n2    bad\n3    bad\n4    bad\nName: rating, dtype: category\nCategories (3, object): [good < bad < worse]\n"
                }
            ],
            "execution_count": 24
        }
    ]
}